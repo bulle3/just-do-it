{
  "nbformat": 4,
  "nbformat_minor": 0,
  "metadata": {
    "colab": {
      "provenance": [],
      "authorship_tag": "ABX9TyPa2USkEVJzH0Ofe22E5cu9",
      "include_colab_link": true
    },
    "kernelspec": {
      "name": "python3",
      "display_name": "Python 3"
    },
    "language_info": {
      "name": "python"
    }
  },
  "cells": [
    {
      "cell_type": "markdown",
      "metadata": {
        "id": "view-in-github",
        "colab_type": "text"
      },
      "source": [
        "<a href=\"https://colab.research.google.com/github/bulle3/just-do-it/blob/main/Untitled0.ipynb\" target=\"_parent\"><img src=\"https://colab.research.google.com/assets/colab-badge.svg\" alt=\"Open In Colab\"/></a>"
      ]
    },
    {
      "cell_type": "code",
      "execution_count": null,
      "metadata": {
        "colab": {
          "base_uri": "https://localhost:8080/"
        },
        "id": "-6Yyx3PdlLcT",
        "outputId": "dcf3d081-9c1e-45a3-b0a4-baed923f4a75"
      },
      "outputs": [
        {
          "output_type": "stream",
          "name": "stdout",
          "text": [
            "Looking in indexes: https://pypi.org/simple, https://us-python.pkg.dev/colab-wheels/public/simple/\n",
            "Requirement already satisfied: torch in /usr/local/lib/python3.10/dist-packages (2.0.1+cu118)\n",
            "Requirement already satisfied: filelock in /usr/local/lib/python3.10/dist-packages (from torch) (3.12.0)\n",
            "Requirement already satisfied: typing-extensions in /usr/local/lib/python3.10/dist-packages (from torch) (4.5.0)\n",
            "Requirement already satisfied: sympy in /usr/local/lib/python3.10/dist-packages (from torch) (1.11.1)\n",
            "Requirement already satisfied: networkx in /usr/local/lib/python3.10/dist-packages (from torch) (3.1)\n",
            "Requirement already satisfied: jinja2 in /usr/local/lib/python3.10/dist-packages (from torch) (3.1.2)\n",
            "Requirement already satisfied: triton==2.0.0 in /usr/local/lib/python3.10/dist-packages (from torch) (2.0.0)\n",
            "Requirement already satisfied: cmake in /usr/local/lib/python3.10/dist-packages (from triton==2.0.0->torch) (3.25.2)\n",
            "Requirement already satisfied: lit in /usr/local/lib/python3.10/dist-packages (from triton==2.0.0->torch) (16.0.5)\n",
            "Requirement already satisfied: MarkupSafe>=2.0 in /usr/local/lib/python3.10/dist-packages (from jinja2->torch) (2.1.2)\n",
            "Requirement already satisfied: mpmath>=0.19 in /usr/local/lib/python3.10/dist-packages (from sympy->torch) (1.3.0)\n"
          ]
        }
      ],
      "source": [
        "!pip install torch\n"
      ]
    },
    {
      "cell_type": "code",
      "source": [
        "def text_to_binary(text):\n",
        "    binary = ''.join(format(ord(char), '08b') for char in text)\n",
        "    return binary\n",
        "\n",
        "text = 'Hello World'\n",
        "binary = text_to_binary(text)\n",
        "\n",
        "print(f'The binary representation of \"{text}\" is:')\n",
        "print(binary)\n"
      ],
      "metadata": {
        "colab": {
          "base_uri": "https://localhost:8080/"
        },
        "id": "nTZOR46ZlMNS",
        "outputId": "62d37a0c-4d7e-4a87-99eb-6e78e05e9277"
      },
      "execution_count": null,
      "outputs": [
        {
          "output_type": "stream",
          "name": "stdout",
          "text": [
            "The binary representation of \"Hello World\" is:\n",
            "0100100001100101011011000110110001101111001000000101011101101111011100100110110001100100\n"
          ]
        }
      ]
    },
    {
      "cell_type": "code",
      "source": [
        "import torch\n",
        "from torch import nn\n",
        "from torch.optim import Adam\n",
        "\n",
        "class DNAAutoencoder(nn.Module):\n",
        "    def __init__(self):\n",
        "        super(DNAAutoencoder, self).__init__()\n",
        "\n",
        "        # Encoder layers\n",
        "        self.encoder = nn.Sequential(\n",
        "            nn.Linear(input_size, hidden_size),\n",
        "            nn.ReLU(),\n",
        "            nn.Linear(hidden_size, code_size),\n",
        "            nn.ReLU()\n",
        "        )\n",
        "\n",
        "        # Decoder layers\n",
        "        self.decoder = nn.Sequential(\n",
        "            nn.Linear(code_size, hidden_size),\n",
        "            nn.ReLU(),\n",
        "            nn.Linear(hidden_size, input_size),\n",
        "            nn.Sigmoid()  # To ensure the output is between 0 and 1\n",
        "        )\n",
        "\n",
        "    def forward(self, x):\n",
        "        x = self.encoder(x)\n",
        "        x = self.decoder(x)\n",
        "        return x\n",
        "\n",
        "\n",
        "# Number of binary vectors\n",
        "num_vectors = 1000\n",
        "\n",
        "# Length of each binary vector\n",
        "vector_length = 784\n",
        "\n",
        "# Create a tensor of random binary vectors\n",
        "inputs = torch.randint(0, 2, (num_vectors, vector_length)).float()\n",
        "\n",
        "# Size of the hidden layers\n",
        "hidden_size = 128\n",
        "hidden_size2 = 64\n",
        "\n",
        "# Initialize the autoencoder, loss function, and optimizer\n",
        "autoencoder = Autoencoder(vector_length, hidden_size, hidden_size2)\n",
        "criterion = nn.MSELoss()\n",
        "optimizer = Adam(autoencoder.parameters())\n",
        "\n",
        "# Number of epochs (complete passes through the dataset)\n",
        "epochs = 100\n",
        "\n",
        "for epoch in range(epochs):\n",
        "    # Zero the gradients\n",
        "    optimizer.zero_grad()\n",
        "\n",
        "    # Forward pass\n",
        "    outputs = autoencoder(inputs)\n",
        "\n",
        "    # Compute the loss\n",
        "    loss = criterion(outputs, inputs)\n",
        "\n",
        "    # Backward pass\n",
        "    loss.backward()\n",
        "\n",
        "    # Update the weights\n",
        "    optimizer.step()\n",
        "\n",
        "    # Print the loss for this epoch\n",
        "    print(f'Epoch {epoch+1}/{epochs}, Loss: {loss.item()}')\n"
      ],
      "metadata": {
        "colab": {
          "base_uri": "https://localhost:8080/"
        },
        "id": "gj6hDyhSmFDC",
        "outputId": "015d331e-9c64-4335-ecd2-48ec7bbf910e"
      },
      "execution_count": 12,
      "outputs": [
        {
          "output_type": "stream",
          "name": "stdout",
          "text": [
            "Epoch 1/100, Loss: 0.2502639889717102\n",
            "Epoch 2/100, Loss: 0.25013458728790283\n",
            "Epoch 3/100, Loss: 0.2500593364238739\n",
            "Epoch 4/100, Loss: 0.2499883621931076\n",
            "Epoch 5/100, Loss: 0.24990935623645782\n",
            "Epoch 6/100, Loss: 0.24982298910617828\n",
            "Epoch 7/100, Loss: 0.24973319470882416\n",
            "Epoch 8/100, Loss: 0.24963396787643433\n",
            "Epoch 9/100, Loss: 0.24953201413154602\n",
            "Epoch 10/100, Loss: 0.24941474199295044\n",
            "Epoch 11/100, Loss: 0.2492901235818863\n",
            "Epoch 12/100, Loss: 0.2491571456193924\n",
            "Epoch 13/100, Loss: 0.2490139752626419\n",
            "Epoch 14/100, Loss: 0.24886122345924377\n",
            "Epoch 15/100, Loss: 0.24869373440742493\n",
            "Epoch 16/100, Loss: 0.24851727485656738\n",
            "Epoch 17/100, Loss: 0.24834805727005005\n",
            "Epoch 18/100, Loss: 0.2481842190027237\n",
            "Epoch 19/100, Loss: 0.247981458902359\n",
            "Epoch 20/100, Loss: 0.247762992978096\n",
            "Epoch 21/100, Loss: 0.2475796341896057\n",
            "Epoch 22/100, Loss: 0.247346892952919\n",
            "Epoch 23/100, Loss: 0.24709194898605347\n",
            "Epoch 24/100, Loss: 0.24685552716255188\n",
            "Epoch 25/100, Loss: 0.24657170474529266\n",
            "Epoch 26/100, Loss: 0.24625585973262787\n",
            "Epoch 27/100, Loss: 0.24595360457897186\n",
            "Epoch 28/100, Loss: 0.24561308324337006\n",
            "Epoch 29/100, Loss: 0.2452334612607956\n",
            "Epoch 30/100, Loss: 0.2448652684688568\n",
            "Epoch 31/100, Loss: 0.2444874793291092\n",
            "Epoch 32/100, Loss: 0.24407228827476501\n",
            "Epoch 33/100, Loss: 0.24365635216236115\n",
            "Epoch 34/100, Loss: 0.24331118166446686\n",
            "Epoch 35/100, Loss: 0.24304677546024323\n",
            "Epoch 36/100, Loss: 0.2426072359085083\n",
            "Epoch 37/100, Loss: 0.24217021465301514\n",
            "Epoch 38/100, Loss: 0.24193008244037628\n",
            "Epoch 39/100, Loss: 0.24149666726589203\n",
            "Epoch 40/100, Loss: 0.24120308458805084\n",
            "Epoch 41/100, Loss: 0.24091707170009613\n",
            "Epoch 42/100, Loss: 0.24050769209861755\n",
            "Epoch 43/100, Loss: 0.2403259575366974\n",
            "Epoch 44/100, Loss: 0.23987382650375366\n",
            "Epoch 45/100, Loss: 0.23960377275943756\n",
            "Epoch 46/100, Loss: 0.23935255408287048\n",
            "Epoch 47/100, Loss: 0.23898129165172577\n",
            "Epoch 48/100, Loss: 0.2387484461069107\n",
            "Epoch 49/100, Loss: 0.23839712142944336\n",
            "Epoch 50/100, Loss: 0.23815928399562836\n",
            "Epoch 51/100, Loss: 0.23782050609588623\n",
            "Epoch 52/100, Loss: 0.23756584525108337\n",
            "Epoch 53/100, Loss: 0.23729872703552246\n",
            "Epoch 54/100, Loss: 0.2369450330734253\n",
            "Epoch 55/100, Loss: 0.23673681914806366\n",
            "Epoch 56/100, Loss: 0.23641948401927948\n",
            "Epoch 57/100, Loss: 0.23614121973514557\n",
            "Epoch 58/100, Loss: 0.23588919639587402\n",
            "Epoch 59/100, Loss: 0.23557573556900024\n",
            "Epoch 60/100, Loss: 0.23532967269420624\n",
            "Epoch 61/100, Loss: 0.23504996299743652\n",
            "Epoch 62/100, Loss: 0.23479145765304565\n",
            "Epoch 63/100, Loss: 0.23455123603343964\n",
            "Epoch 64/100, Loss: 0.23426145315170288\n",
            "Epoch 65/100, Loss: 0.23400920629501343\n",
            "Epoch 66/100, Loss: 0.23374246060848236\n",
            "Epoch 67/100, Loss: 0.2334597408771515\n",
            "Epoch 68/100, Loss: 0.23323176801204681\n",
            "Epoch 69/100, Loss: 0.23297305405139923\n",
            "Epoch 70/100, Loss: 0.23270930349826813\n",
            "Epoch 71/100, Loss: 0.23247484862804413\n",
            "Epoch 72/100, Loss: 0.2322208434343338\n",
            "Epoch 73/100, Loss: 0.23197788000106812\n",
            "Epoch 74/100, Loss: 0.23174282908439636\n",
            "Epoch 75/100, Loss: 0.23150111734867096\n",
            "Epoch 76/100, Loss: 0.23131020367145538\n",
            "Epoch 77/100, Loss: 0.2311398684978485\n",
            "Epoch 78/100, Loss: 0.2308981716632843\n",
            "Epoch 79/100, Loss: 0.23063328862190247\n",
            "Epoch 80/100, Loss: 0.23040339350700378\n",
            "Epoch 81/100, Loss: 0.23020099103450775\n",
            "Epoch 82/100, Loss: 0.23000702261924744\n",
            "Epoch 83/100, Loss: 0.2297782599925995\n",
            "Epoch 84/100, Loss: 0.22955024242401123\n",
            "Epoch 85/100, Loss: 0.22936567664146423\n",
            "Epoch 86/100, Loss: 0.2291719615459442\n",
            "Epoch 87/100, Loss: 0.22896039485931396\n",
            "Epoch 88/100, Loss: 0.22876885533332825\n",
            "Epoch 89/100, Loss: 0.22859787940979004\n",
            "Epoch 90/100, Loss: 0.22841347754001617\n",
            "Epoch 91/100, Loss: 0.2281934767961502\n",
            "Epoch 92/100, Loss: 0.22798852622509003\n",
            "Epoch 93/100, Loss: 0.2278113067150116\n",
            "Epoch 94/100, Loss: 0.2276047319173813\n",
            "Epoch 95/100, Loss: 0.22740919888019562\n",
            "Epoch 96/100, Loss: 0.22724945843219757\n",
            "Epoch 97/100, Loss: 0.22705808281898499\n",
            "Epoch 98/100, Loss: 0.22685104608535767\n",
            "Epoch 99/100, Loss: 0.22667862474918365\n",
            "Epoch 100/100, Loss: 0.2265038639307022\n"
          ]
        }
      ]
    }
  ]
}